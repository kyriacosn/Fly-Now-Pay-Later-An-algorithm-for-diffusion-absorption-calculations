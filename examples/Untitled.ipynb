{
 "cells": [
  {
   "cell_type": "code",
   "execution_count": 5,
   "id": "f9159905",
   "metadata": {},
   "outputs": [],
   "source": [
    "import numpy as np\n",
    "\n",
    "f = open(\"check/Simulation_db/N_file.dat\", \"r\")\n",
    "a = np.fromfile(f, dtype=np.uint32)"
   ]
  },
  {
   "cell_type": "code",
   "execution_count": 6,
   "id": "d2ea7521",
   "metadata": {},
   "outputs": [
    {
     "name": "stdout",
     "output_type": "stream",
     "text": [
      "[-0.1325978  -0.13261267 -0.1325322  -0.13261802 -0.13201292 -0.13211126\n",
      " -0.13197214 -0.13210773 -0.13186823 -0.13204863  0.05950898  0.05956324\n",
      "  0.05969942  0.05982545  0.05984883  0.05996683  0.05994162  0.05991045\n",
      "  0.05992668  0.05992617  0.05992173  0.06078384  0.06087739  0.06090935\n",
      "  0.06091841  0.0609561   0.06210858  0.06200209  0.06218236  0.06209965\n",
      "  0.06192702  0.06167908  0.06169417  0.06177761  0.06222333  0.06212349\n",
      "  0.06207075  0.06210688  0.06227065  0.06222769  0.06228046  0.06243601\n",
      "  0.062448    0.0652873   0.06549999  0.06566599  0.06572562  0.06568951\n",
      "  0.0656793   0.06561604  0.0655441   0.06539845  0.06551506  0.06559846\n",
      "  0.065634    0.06570355  0.06574028  0.06579403  0.06583682  0.06588888\n",
      "  0.06591855  0.0660113   0.06610372  0.06515989]\n"
     ]
    }
   ],
   "source": [
    "\n",
    "f = open(\"check/Simulation_db/N_file.dat\", \"r\")\n",
    "a = np.fromfile(f, dtype=np.double)"
   ]
  },
  {
   "cell_type": "code",
   "execution_count": 7,
   "id": "c9785010",
   "metadata": {},
   "outputs": [],
   "source": [
    "import numpy as np\n",
    "import matplotlib.pyplot as plt\n",
    "import json"
   ]
  },
  {
   "cell_type": "code",
   "execution_count": 23,
   "id": "4dfd7649",
   "metadata": {},
   "outputs": [],
   "source": [
    "f = open('check/Sim9/settings.txt')\n",
    "data = json.load(f)"
   ]
  },
  {
   "cell_type": "code",
   "execution_count": 24,
   "id": "032b9503",
   "metadata": {},
   "outputs": [
    {
     "data": {
      "text/plain": [
       "12.566372"
      ]
     },
     "execution_count": 24,
     "metadata": {},
     "output_type": "execute_result"
    }
   ],
   "source": [
    "np.sum(data[\"mesh_area\"])"
   ]
  },
  {
   "cell_type": "code",
   "execution_count": 25,
   "id": "3d601375",
   "metadata": {},
   "outputs": [
    {
     "data": {
      "text/plain": [
       "12.566370614359172"
      ]
     },
     "execution_count": 25,
     "metadata": {},
     "output_type": "execute_result"
    }
   ],
   "source": [
    "4*np.pi"
   ]
  },
  {
   "cell_type": "code",
   "execution_count": null,
   "id": "7386e567",
   "metadata": {},
   "outputs": [],
   "source": []
  }
 ],
 "metadata": {
  "kernelspec": {
   "display_name": "Python 3 (ipykernel)",
   "language": "python",
   "name": "python3"
  },
  "language_info": {
   "codemirror_mode": {
    "name": "ipython",
    "version": 3
   },
   "file_extension": ".py",
   "mimetype": "text/x-python",
   "name": "python",
   "nbconvert_exporter": "python",
   "pygments_lexer": "ipython3",
   "version": "3.8.17"
  }
 },
 "nbformat": 4,
 "nbformat_minor": 5
}
